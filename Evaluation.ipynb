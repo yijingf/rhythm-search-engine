{
 "cells": [
  {
   "cell_type": "markdown",
   "id": "398b229f",
   "metadata": {},
   "source": [
    "## Evaluate similarity-based retrieval paradigm\n",
    "\n",
    "**Query**: 45 patterns lasting around 10-s from MIREX dataset. See `MIREX Dataset.ipynb` for more details on how 45 patterns were chosen from the original MIREX dataset.\n",
    "\n",
    "**Candidate**: The candidate dataset is composed of a mixture of 5 transformations of these patterns with slightly difference in tempo or <font color=blue>pitch</font> and randomly sampled segments from either MIREX or MAESTRO dataset. \n",
    "\n",
    "We rank the candidates based on their distance to the query and assess the recall rate of its 5 transformations."
   ]
  },
  {
   "cell_type": "code",
   "execution_count": 1,
   "id": "f1472eb0",
   "metadata": {},
   "outputs": [],
   "source": [
    "import random\n",
    "import numpy as np\n",
    "import pandas as pd\n",
    "from numpy.linalg import norm"
   ]
  },
  {
   "cell_type": "markdown",
   "id": "f87ef91c",
   "metadata": {},
   "source": [
    "### Make query set from selected MIREX patterns"
   ]
  },
  {
   "cell_type": "code",
   "execution_count": 2,
   "id": "9c4fb67a",
   "metadata": {},
   "outputs": [],
   "source": [
    "# Load MIREX Dataset\n",
    "mirex_spectra = np.load(\"./data/mirex/periodicity_spectra_pattern.npy\")\n",
    "mirex_df = pd.read_csv(\"./data/mirex/pattern_split.csv\")\n",
    "mirex_df['label'] = mirex_df['piece'] + '_' + mirex_df['version'] + '_' + mirex_df['pattern']"
   ]
  },
  {
   "cell_type": "markdown",
   "id": "16e96b4d",
   "metadata": {},
   "source": [
    "### From MIREX"
   ]
  },
  {
   "cell_type": "code",
   "execution_count": 3,
   "id": "8175e76f",
   "metadata": {},
   "outputs": [],
   "source": [
    "mirex_spectra_ = np.load(\"./data/mirex/periodicity_spectra.npy\")\n",
    "mirex_label_ = ['mirex_other' for _ in range(len(mirex_spectra_))]"
   ]
  },
  {
   "cell_type": "markdown",
   "id": "215ac502",
   "metadata": {},
   "source": [
    "### From MAESTRO"
   ]
  },
  {
   "cell_type": "code",
   "execution_count": 4,
   "id": "672475b7",
   "metadata": {},
   "outputs": [],
   "source": [
    "# Load MAESTRO Dataset\n",
    "maestro_df = pd.read_csv(\"./metadata/maestro_selected.csv\")\n",
    "\n",
    "# randomly select segement from maestro but avoiding the 1st and last window\n",
    "# indices = [random.randint(1, len(s)-2) for s in maestro_spectra]\n",
    "indices = list(np.load(\"./data/eval/maestro_frame_idx.npy\"))\n",
    "maestro_spectra = dict(np.load(\"./data/periodicity_spectra/maestro_selected.npz\", allow_pickle=True))['p_f']\n",
    "maestro_spectra = np.array([maestro_spectra[i][idx] for i, idx in enumerate(indices)])\n",
    "maestro_label = ['maestro' for _ in range(len(indices))]"
   ]
  },
  {
   "cell_type": "markdown",
   "id": "f33a1032",
   "metadata": {},
   "source": [
    "### Combine Dataset to make training set/database"
   ]
  },
  {
   "cell_type": "code",
   "execution_count": 5,
   "id": "64f9c3b4",
   "metadata": {},
   "outputs": [],
   "source": [
    "from sklearn import preprocessing\n",
    "le = preprocessing.LabelEncoder()\n",
    "le.fit(np.concatenate([mirex_df['label'].to_numpy(), ['maestro'], ['mirex_other']]))\n",
    "\n",
    "# Get query set from MIREX (Test)\n",
    "mirex_val_idx = mirex_df[mirex_df['split'] == 'test'].index.to_list()\n",
    "X_query = mirex_spectra[mirex_val_idx]\n",
    "X_query = (X_query.T/norm(X_query, axis=1)).T # normalize\n",
    "y_query = le.transform(mirex_df.loc[mirex_val_idx, 'label'].to_list())\n",
    "\n",
    "\n",
    "# Make Database (Train)\n",
    "mirex_train_idx = mirex_df[mirex_df['split'] == 'train'].index.to_list()\n",
    "\n",
    "# Combine MIREX Pattern and other MIREX data to make database\n",
    "X_mirex = np.vstack([mirex_spectra[mirex_train_idx], mirex_spectra_])\n",
    "X_mirex = (X_mirex.T/norm(X_mirex, axis=1)).T # normalize\n",
    "y_mirex = le.transform(mirex_df.loc[mirex_train_idx, 'label'].to_list() + mirex_label_)\n",
    "\n",
    "# Combine MIREX Pattern and MAESTRO to make database\n",
    "X_maestro = np.vstack([mirex_spectra[mirex_train_idx], maestro_spectra])\n",
    "X_maestro = (X_maestro.T/norm(X_maestro, axis=1)).T # normalize\n",
    "y_maestro = le.transform(mirex_df.loc[mirex_train_idx, 'label'].to_list() + maestro_label)"
   ]
  },
  {
   "cell_type": "markdown",
   "id": "345b6649",
   "metadata": {},
   "source": [
    "## Evaluation Metrics"
   ]
  },
  {
   "cell_type": "code",
   "execution_count": 6,
   "id": "6b87dc4d",
   "metadata": {},
   "outputs": [],
   "source": [
    "def top_K_hit_rate(sim_score, y_train, y_test, K=1):\n",
    "    n = len(y_test)\n",
    "    idx = np.argsort(sim_score, axis=1)[:, -K:]\n",
    "    y_pred_top_K = y_train[idx]\n",
    "    hit = [(y_query[i] in y_pred_top_K[i]) for i in range(n)]\n",
    "    hit_rate = np.sum(hit)/n\n",
    "    return hit_rate"
   ]
  },
  {
   "cell_type": "code",
   "execution_count": 7,
   "id": "eef8713d",
   "metadata": {},
   "outputs": [],
   "source": [
    "def top_K_overlap_rate(sim_score, y_train, y_test, K=1):\n",
    "    n = len(y_test)\n",
    "    idx = np.argsort(sim_score, axis=1)[:, -K:]\n",
    "    y_pred_top_K = y_train[idx]\n",
    "    \n",
    "    y_test = np.repeat(np.expand_dims(y_test, axis=1), K, axis=1)\n",
    "    rate = np.sum(y_test == y_pred_top_K)/K/n\n",
    "    return rate"
   ]
  },
  {
   "cell_type": "markdown",
   "id": "b8dc69b0",
   "metadata": {},
   "source": [
    "# Cosine Similarity"
   ]
  },
  {
   "cell_type": "code",
   "execution_count": 8,
   "id": "f5218b8e",
   "metadata": {},
   "outputs": [],
   "source": [
    "def cosine_similarity(x, y):\n",
    "    # in the shape of [n, dim_feature]\n",
    "#     x = (x.T/norm(x.T, axis=0)).T\n",
    "#     y = (y.T/norm(y.T, axis=0)).T\n",
    "\n",
    "    return np.dot(x, y.T)\n",
    "# cos_score = top_K_hit_rate(np.argsort(cos_sim, axis=1), K=2)\n",
    "# print(cos_score)"
   ]
  },
  {
   "cell_type": "code",
   "execution_count": 10,
   "id": "31050c48",
   "metadata": {},
   "outputs": [
    {
     "name": "stdout",
     "output_type": "stream",
     "text": [
      "Hit Rate on MIREX\n",
      "TOP 1: 1.0000, TOP 5: 1.0000\n",
      "---------\n",
      "Overlap Rate on MIREX\n",
      "TOP 5: 0.5867\n"
     ]
    }
   ],
   "source": [
    "mirex_cos_score = cosine_similarity(X_query, X_mirex)\n",
    "mirex_cos_hit_rate_top_1 = top_K_hit_rate(mirex_cos_score, y_mirex, y_query, K=1)\n",
    "mirex_cos_hit_rate_top_5 = top_K_hit_rate(mirex_cos_score, y_mirex, y_query, K=5)\n",
    "mirex_cos_overlap_rate = top_K_overlap_rate(mirex_cos_score, y_mirex, y_query, K=5)\n",
    "\n",
    "print(\"Hit Rate on MIREX\")\n",
    "print(f\"TOP 1: {mirex_cos_hit_rate_top_1:.4f}, TOP 5: {mirex_cos_hit_rate_top_5:.4f}\")\n",
    "print(\"---------\")\n",
    "print(\"Overlap Rate on MIREX\")\n",
    "print(f\"TOP 5: {mirex_cos_overlap_rate:.4f}\")"
   ]
  },
  {
   "cell_type": "code",
   "execution_count": 11,
   "id": "332d6607",
   "metadata": {
    "scrolled": true
   },
   "outputs": [
    {
     "name": "stdout",
     "output_type": "stream",
     "text": [
      "Hit Rate on MAESTRO\n",
      "TOP 1: 1.0000, TOP 5: 1.0000\n",
      "---------\n",
      "Overlap Rate on MAESTRO\n",
      "TOP 5: 0.5911\n"
     ]
    }
   ],
   "source": [
    "maestro_cos_score = cosine_similarity(X_query, X_maestro)\n",
    "maestro_cos_hit_rate_top_1 = top_K_hit_rate(maestro_cos_score, y_maestro, y_query, K=1)\n",
    "maestro_cos_hit_rate_top_5 = top_K_hit_rate(maestro_cos_score, y_maestro, y_query, K=5)\n",
    "maestro_cos_overlap_rate = top_K_overlap_rate(maestro_cos_score, y_maestro, y_query, K=5)\n",
    "\n",
    "\n",
    "print(\"Hit Rate on MAESTRO\")\n",
    "print(f\"TOP 1: {maestro_cos_hit_rate_top_1:.4f}, TOP 5: {maestro_cos_hit_rate_top_5:.4f}\")\n",
    "print(\"---------\")\n",
    "print(\"Overlap Rate on MAESTRO\")\n",
    "print(f\"TOP 5: {maestro_cos_overlap_rate:.4f}\")"
   ]
  },
  {
   "cell_type": "markdown",
   "id": "8e3f1590",
   "metadata": {},
   "source": [
    "# Euclidean Distance"
   ]
  },
  {
   "cell_type": "code",
   "execution_count": 12,
   "id": "20d4a504",
   "metadata": {},
   "outputs": [],
   "source": [
    "def euclidean_similiarity(x, y):\n",
    "    # in the shape of [n, dim_feature]\n",
    "    m, n = len(x), len(y)\n",
    "    x = np.repeat(np.expand_dims(x, 1), n, axis=1)\n",
    "    y = np.repeat(np.expand_dims(y, 0), m, axis=0)\n",
    "    \n",
    "    return 1/norm(x-y, axis=-1)"
   ]
  },
  {
   "cell_type": "code",
   "execution_count": 13,
   "id": "bfa3a8a4",
   "metadata": {},
   "outputs": [
    {
     "name": "stdout",
     "output_type": "stream",
     "text": [
      "Hit Rate on MIREX\n",
      "TOP 1: 1.0000, TOP 5: 1.0000\n",
      "---------\n",
      "Overlap Rate on MIREX\n",
      "TOP 5: 0.5867\n"
     ]
    }
   ],
   "source": [
    "mirex_euc_score = euclidean_similiarity(X_query, X_mirex)\n",
    "mirex_euc_hit_rate_top_1 = top_K_hit_rate(mirex_euc_score, y_mirex, y_query, K=1)\n",
    "mirex_euc_hit_rate_top_5 = top_K_hit_rate(mirex_euc_score, y_mirex, y_query, K=5)\n",
    "mirex_euc_overlap_rate = top_K_overlap_rate(mirex_euc_score, y_mirex, y_query, K=5)\n",
    "\n",
    "print(\"Hit Rate on MIREX\")\n",
    "print(f\"TOP 1: {mirex_euc_hit_rate_top_1:.4f}, TOP 5: {mirex_euc_hit_rate_top_5:.4f}\")\n",
    "print(\"---------\")\n",
    "print(\"Overlap Rate on MIREX\")\n",
    "print(f\"TOP 5: {mirex_euc_overlap_rate:.4f}\")"
   ]
  },
  {
   "cell_type": "code",
   "execution_count": 14,
   "id": "f0acd324",
   "metadata": {},
   "outputs": [
    {
     "name": "stdout",
     "output_type": "stream",
     "text": [
      "Hit Rate on MAESTRO\n",
      "TOP 1: 1.0000, TOP 5: 1.0000\n",
      "---------\n",
      "Overlap Rate on MAESTRO\n",
      "TOP 5: 0.5911\n"
     ]
    }
   ],
   "source": [
    "maestro_euc_score = cosine_similarity(X_query, X_maestro)\n",
    "maestro_euc_hit_rate_top_1 = top_K_hit_rate(maestro_euc_score, y_maestro, y_query, K=1)\n",
    "maestro_euc_hit_rate_top_5 = top_K_hit_rate(maestro_euc_score, y_maestro, y_query, K=5)\n",
    "maestro_euc_overlap_rate = top_K_overlap_rate(maestro_euc_score, y_maestro, y_query, K=5)\n",
    "\n",
    "\n",
    "print(\"Hit Rate on MAESTRO\")\n",
    "print(f\"TOP 1: {maestro_euc_hit_rate_top_1:.4f}, TOP 5: {maestro_euc_hit_rate_top_5:.4f}\")\n",
    "print(\"---------\")\n",
    "print(\"Overlap Rate on MAESTRO\")\n",
    "print(f\"TOP 5: {maestro_euc_overlap_rate:.4f}\")"
   ]
  },
  {
   "cell_type": "markdown",
   "id": "b888c8f7",
   "metadata": {},
   "source": [
    "# DPW Distance"
   ]
  },
  {
   "cell_type": "code",
   "execution_count": null,
   "id": "90a4b4dc",
   "metadata": {},
   "outputs": [],
   "source": [
    "# Note: takes around 2hrs to calcualte dpw for each data set. \n",
    "from src.dpw import DPW_distance\n",
    "\n",
    "def cal_dpw_dist(X_train, X_test):\n",
    "    n_train, n_test = len(X_train), len(X_test)\n",
    "    dist = np.ones((n_test, n_train)) * np.inf\n",
    "    \n",
    "    for i in range(n_test):\n",
    "        for j in range(n_train):\n",
    "            dist[i,j] = DPW_distance(X_test[i], X_train[j])\n",
    "    return dist"
   ]
  },
  {
   "cell_type": "code",
   "execution_count": 30,
   "id": "5d50383d",
   "metadata": {},
   "outputs": [
    {
     "name": "stdout",
     "output_type": "stream",
     "text": [
      "Hit Rate on MIREX\n",
      "TOP 1: 0.0000, TOP 5: 0.8889\n",
      "---------\n",
      "Overlap Rate on MIREX\n",
      "TOP 5: 0.1911\n"
     ]
    }
   ],
   "source": [
    "mirex_dpw_dist = np.load(\"./data/eval/eval_dpw_dist_mirex.npy\")\n",
    "mirex_dpw_score = 1/mirex_dpw_dist\n",
    "\n",
    "mirex_dpw_hit_rate_top_1 = top_K_hit_rate(mirex_dpw_score, y_mirex, y_query, K=1)\n",
    "mirex_dpw_hit_rate_top_5 = top_K_hit_rate(mirex_dpw_score, y_mirex, y_query, K=5)\n",
    "mirex_dpw_overlap_rate = top_K_overlap_rate(mirex_dpw_score, y_mirex, y_query, K=5)\n",
    "\n",
    "print(\"Hit Rate on MIREX\")\n",
    "print(f\"TOP 1: {mirex_dpw_hit_rate_top_1:.4f}, TOP 5: {mirex_dpw_hit_rate_top_5:.4f}\")\n",
    "print(\"---------\")\n",
    "print(\"Overlap Rate on MIREX\")\n",
    "print(f\"TOP 5: {mirex_dpw_overlap_rate:.4f}\")"
   ]
  },
  {
   "cell_type": "code",
   "execution_count": 32,
   "id": "44a9afec",
   "metadata": {},
   "outputs": [
    {
     "name": "stdout",
     "output_type": "stream",
     "text": [
      "Hit Rate on MIREX\n",
      "TOP 1: 0.8444, TOP 5: 0.9333\n",
      "---------\n",
      "Overlap Rate on MIREX\n",
      "TOP 5: 0.2000\n"
     ]
    }
   ],
   "source": [
    "maestro_dpw_dist = np.load(\"./data/eval/eval_dpw_dist_maestro.npy\")\n",
    "maestro_dpw_score = 1/maestro_dpw_dist\n",
    "\n",
    "maestro_dpw_hit_rate_top_1 = top_K_hit_rate(maestro_dpw_score, y_maestro, y_query, K=1)\n",
    "maestro_dpw_hit_rate_top_5 = top_K_hit_rate(maestro_dpw_score, y_maestro, y_query, K=5)\n",
    "maestro_dpw_overlap_rate = top_K_overlap_rate(maestro_dpw_score, y_maestro, y_query, K=5)\n",
    "\n",
    "print(\"Hit Rate on MIREX\")\n",
    "print(f\"TOP 1: {maestro_dpw_hit_rate_top_1:.4f}, TOP 5: {maestro_dpw_hit_rate_top_5:.4f}\")\n",
    "print(\"---------\")\n",
    "print(\"Overlap Rate on MIREX\")\n",
    "print(f\"TOP 5: {maestro_dpw_overlap_rate:.4f}\")"
   ]
  }
 ],
 "metadata": {
  "kernelspec": {
   "display_name": "Python 3 (ipykernel)",
   "language": "python",
   "name": "python3"
  },
  "language_info": {
   "codemirror_mode": {
    "name": "ipython",
    "version": 3
   },
   "file_extension": ".py",
   "mimetype": "text/x-python",
   "name": "python",
   "nbconvert_exporter": "python",
   "pygments_lexer": "ipython3",
   "version": "3.9.9"
  }
 },
 "nbformat": 4,
 "nbformat_minor": 5
}
